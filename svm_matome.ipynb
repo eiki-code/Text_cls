{
  "nbformat": 4,
  "nbformat_minor": 0,
  "metadata": {
    "colab": {
      "provenance": [],
      "gpuType": "T4",
      "authorship_tag": "ABX9TyNF6f2NbF+NVPLoM6BXDHBG",
      "include_colab_link": true
    },
    "kernelspec": {
      "name": "python3",
      "display_name": "Python 3"
    },
    "language_info": {
      "name": "python"
    },
    "accelerator": "GPU"
  },
  "cells": [
    {
      "cell_type": "markdown",
      "metadata": {
        "id": "view-in-github",
        "colab_type": "text"
      },
      "source": [
        "<a href=\"https://colab.research.google.com/github/eiki-code/Text_cls/blob/main/svm_matome.ipynb\" target=\"_parent\"><img src=\"https://colab.research.google.com/assets/colab-badge.svg\" alt=\"Open In Colab\"/></a>"
      ]
    },
    {
      "cell_type": "markdown",
      "source": [
        "\n",
        "\n",
        "---\n",
        "\n",
        "\n",
        "\n",
        "---\n",
        "\n",
        "**Step.1 文章のベクトル化**\n",
        "\n",
        "\n",
        "Mecab(分かち書き)→特徴語辞書作成→BoW→TFIDF→LSI→ベクトル変換\n",
        "\n",
        "\n",
        "基本的にはgensimのコーパスを使う\n",
        "\n",
        "\n",
        "辞書中の単語IDと、頻度のタプルにが作られるのでそれを特徴ベクトルに変換して用いる\n",
        "\n",
        "\n",
        "gensim参考：\n",
        "\n",
        "\n",
        "https://kento1109.hatenablog.com/entry/2017/11/15/230909,\n",
        "\n",
        "\n",
        "https://qiita.com/yasunori/items/31a23eb259482e4824e2,\n",
        "\n",
        "\n",
        "https://qiita.com/3000manJPY/items/a0652d488ce3c956613d,\n",
        "\n",
        "\n",
        "https://radimrehurek.com/gensim/auto_examples/core/run_topics_and_transformations.html,\n",
        "\n",
        "\n",
        "https://radimrehurek.com/gensim/matutils.html,\n",
        "\n",
        "\n",
        "https://www.kkaneko.jp/ai/win/bowj.html,"
      ],
      "metadata": {
        "id": "NnLaW9HLmweV"
      }
    },
    {
      "cell_type": "code",
      "execution_count": null,
      "metadata": {
        "colab": {
          "base_uri": "https://localhost:8080/"
        },
        "id": "Pw7FNhuJmtbI",
        "outputId": "39765418-e14a-480d-85ca-90e505516ee7"
      },
      "outputs": [
        {
          "output_type": "stream",
          "name": "stdout",
          "text": [
            "Collecting mecab-python3\n",
            "  Downloading mecab_python3-1.0.6-cp310-cp310-manylinux_2_17_x86_64.manylinux2014_x86_64.whl (581 kB)\n",
            "\u001b[2K     \u001b[90m━━━━━━━━━━━━━━━━━━━━━━━━━━━━━━━━━━━━━━━\u001b[0m \u001b[32m581.6/581.6 kB\u001b[0m \u001b[31m5.4 MB/s\u001b[0m eta \u001b[36m0:00:00\u001b[0m\n",
            "\u001b[?25hCollecting unidic-lite\n",
            "  Downloading unidic-lite-1.0.8.tar.gz (47.4 MB)\n",
            "\u001b[2K     \u001b[90m━━━━━━━━━━━━━━━━━━━━━━━━━━━━━━━━━━━━━━━━\u001b[0m \u001b[32m47.4/47.4 MB\u001b[0m \u001b[31m17.9 MB/s\u001b[0m eta \u001b[36m0:00:00\u001b[0m\n",
            "\u001b[?25h  Preparing metadata (setup.py) ... \u001b[?25l\u001b[?25hdone\n",
            "Building wheels for collected packages: unidic-lite\n"
          ]
        }
      ],
      "source": [
        "!pip install mecab-python3 unidic-lite\n",
        "!apt install aptitude\n",
        "!aptitude install mecab libmecab-dev mecab-ipadic-utf8 git make curl xz-utils file -y\n",
        "!pip install mecab-python3==0.7\n",
        "\n",
        "!apt-get -q -y install sudo file mecab libmecab-dev mecab-ipadic-utf8 git curl python-mecab > /dev/null\n",
        "!git clone --depth 1 https://github.com/neologd/mecab-ipadic-neologd.git > /dev/null\n",
        "!pip install mecab-python3 > /dev/null\n",
        "\n",
        "# シンボリックリンクによるエラー回避\n",
        "!ln -s /etc/mecabrc /usr/local/etc/mecabrc"
      ]
    },
    {
      "cell_type": "code",
      "source": [
        "from google.colab import drive\n",
        "\n",
        "drive.mount(\"/content/drive/\")\n",
        "\n",
        "base_path = \"/content/drive/My Drive/bert_book/\""
      ],
      "metadata": {
        "colab": {
          "base_uri": "https://localhost:8080/"
        },
        "id": "OJB-AZxKoEuZ",
        "outputId": "38353aa9-e055-45b3-fd70-81c7a1e393b3"
      },
      "execution_count": null,
      "outputs": [
        {
          "output_type": "stream",
          "name": "stdout",
          "text": [
            "Mounted at /content/drive/\n"
          ]
        }
      ]
    },
    {
      "cell_type": "code",
      "source": [
        "import MeCab\n",
        "\n",
        "def doc2word_list(doc):\n",
        "  tagger = MeCab.Tagger('-Ochasen')\n",
        "  tagger.parse('')\n",
        "  node = tagger.parseToNode(doc)\n",
        "\n",
        "  word_list = []\n",
        "  while node:\n",
        "    meta = node.feature.split(',')\n",
        "    if meta[0] == '名詞':\n",
        "      word_list.append(meta[6])\n",
        "    node = node.next\n",
        "\n",
        "  return word_list"
      ],
      "metadata": {
        "id": "3Vz4ItFxoBYQ"
      },
      "execution_count": null,
      "outputs": []
    },
    {
      "cell_type": "code",
      "source": [
        "import pandas as pd\n",
        "csv_path = base_path + \"csv/\"\n",
        "train_data = pd.read_csv(csv_path+\"train_data.csv\", header=None, encoding=\"utf-8\")\n",
        "train_data.columns = [\"text\", \"label\"]\n",
        "train_data_list = train_data[\"text\"].values.tolist()\n",
        "train_data"
      ],
      "metadata": {
        "colab": {
          "base_uri": "https://localhost:8080/",
          "height": 424
        },
        "id": "-wROkSB9oHm5",
        "outputId": "46d319d1-3c3a-4543-c58d-7863727c9978"
      },
      "execution_count": null,
      "outputs": [
        {
          "output_type": "execute_result",
          "data": {
            "text/plain": [
              "                                                   text  label\n",
              "0     お盆に帰省した沙織さん（30歳）に「実家は楽しかった？」と聞くと、「楽しいなんてとんでもない...      3\n",
              "1     前篇が観客動員数150万人を突破し、大ヒットしている映画『僕等がいた』。4月21日には、つい...      3\n",
              "2     いよいよ、差し迫ったバレンタインデー。彼にあげるだけでなく、自分でも美味しいチョコレートを味...      7\n",
              "3     父親にとって、娘は目に入れても痛くないと思わせるほど、愛おしく、大切な存在だ。誕生し、成長し...      6\n",
              "4     これまで数々のスーパーヒーローを生み出してきたマーベルが、わずか一本の映画のために最強のヒー...      0\n",
              "...                                                 ...    ...\n",
              "5767  この季節の代表的な花と言えば紫陽花だ。土壌の状態（ph度）で花の色が変わり「酸性なら青」「ア...      6\n",
              "5768  vol.5：東京にいながら、小旅行気分を味わえる深大寺Camera；FUJIFILM KLA...      5\n",
              "5769  15日、選抜高校野球大会に21世紀枠から出場する宮城県の石巻工業高等学校が、総額約5000万...      8\n",
              "5770  「ナマ足」という言葉などない頃は、大人の女がスカートの下にストッキングを履くのは当たり前だっ...      3\n",
              "5771  23日にメディア各社が報じた、タレントの青木さやかと、プロダンサーである夫との離婚が早くもネ...      8\n",
              "\n",
              "[5772 rows x 2 columns]"
            ],
            "text/html": [
              "\n",
              "\n",
              "  <div id=\"df-4d9410f6-ec3e-483f-bb3f-47bbe53f360c\">\n",
              "    <div class=\"colab-df-container\">\n",
              "      <div>\n",
              "<style scoped>\n",
              "    .dataframe tbody tr th:only-of-type {\n",
              "        vertical-align: middle;\n",
              "    }\n",
              "\n",
              "    .dataframe tbody tr th {\n",
              "        vertical-align: top;\n",
              "    }\n",
              "\n",
              "    .dataframe thead th {\n",
              "        text-align: right;\n",
              "    }\n",
              "</style>\n",
              "<table border=\"1\" class=\"dataframe\">\n",
              "  <thead>\n",
              "    <tr style=\"text-align: right;\">\n",
              "      <th></th>\n",
              "      <th>text</th>\n",
              "      <th>label</th>\n",
              "    </tr>\n",
              "  </thead>\n",
              "  <tbody>\n",
              "    <tr>\n",
              "      <th>0</th>\n",
              "      <td>お盆に帰省した沙織さん（30歳）に「実家は楽しかった？」と聞くと、「楽しいなんてとんでもない...</td>\n",
              "      <td>3</td>\n",
              "    </tr>\n",
              "    <tr>\n",
              "      <th>1</th>\n",
              "      <td>前篇が観客動員数150万人を突破し、大ヒットしている映画『僕等がいた』。4月21日には、つい...</td>\n",
              "      <td>3</td>\n",
              "    </tr>\n",
              "    <tr>\n",
              "      <th>2</th>\n",
              "      <td>いよいよ、差し迫ったバレンタインデー。彼にあげるだけでなく、自分でも美味しいチョコレートを味...</td>\n",
              "      <td>7</td>\n",
              "    </tr>\n",
              "    <tr>\n",
              "      <th>3</th>\n",
              "      <td>父親にとって、娘は目に入れても痛くないと思わせるほど、愛おしく、大切な存在だ。誕生し、成長し...</td>\n",
              "      <td>6</td>\n",
              "    </tr>\n",
              "    <tr>\n",
              "      <th>4</th>\n",
              "      <td>これまで数々のスーパーヒーローを生み出してきたマーベルが、わずか一本の映画のために最強のヒー...</td>\n",
              "      <td>0</td>\n",
              "    </tr>\n",
              "    <tr>\n",
              "      <th>...</th>\n",
              "      <td>...</td>\n",
              "      <td>...</td>\n",
              "    </tr>\n",
              "    <tr>\n",
              "      <th>5767</th>\n",
              "      <td>この季節の代表的な花と言えば紫陽花だ。土壌の状態（ph度）で花の色が変わり「酸性なら青」「ア...</td>\n",
              "      <td>6</td>\n",
              "    </tr>\n",
              "    <tr>\n",
              "      <th>5768</th>\n",
              "      <td>vol.5：東京にいながら、小旅行気分を味わえる深大寺Camera；FUJIFILM KLA...</td>\n",
              "      <td>5</td>\n",
              "    </tr>\n",
              "    <tr>\n",
              "      <th>5769</th>\n",
              "      <td>15日、選抜高校野球大会に21世紀枠から出場する宮城県の石巻工業高等学校が、総額約5000万...</td>\n",
              "      <td>8</td>\n",
              "    </tr>\n",
              "    <tr>\n",
              "      <th>5770</th>\n",
              "      <td>「ナマ足」という言葉などない頃は、大人の女がスカートの下にストッキングを履くのは当たり前だっ...</td>\n",
              "      <td>3</td>\n",
              "    </tr>\n",
              "    <tr>\n",
              "      <th>5771</th>\n",
              "      <td>23日にメディア各社が報じた、タレントの青木さやかと、プロダンサーである夫との離婚が早くもネ...</td>\n",
              "      <td>8</td>\n",
              "    </tr>\n",
              "  </tbody>\n",
              "</table>\n",
              "<p>5772 rows × 2 columns</p>\n",
              "</div>\n",
              "      <button class=\"colab-df-convert\" onclick=\"convertToInteractive('df-4d9410f6-ec3e-483f-bb3f-47bbe53f360c')\"\n",
              "              title=\"Convert this dataframe to an interactive table.\"\n",
              "              style=\"display:none;\">\n",
              "\n",
              "  <svg xmlns=\"http://www.w3.org/2000/svg\" height=\"24px\"viewBox=\"0 0 24 24\"\n",
              "       width=\"24px\">\n",
              "    <path d=\"M0 0h24v24H0V0z\" fill=\"none\"/>\n",
              "    <path d=\"M18.56 5.44l.94 2.06.94-2.06 2.06-.94-2.06-.94-.94-2.06-.94 2.06-2.06.94zm-11 1L8.5 8.5l.94-2.06 2.06-.94-2.06-.94L8.5 2.5l-.94 2.06-2.06.94zm10 10l.94 2.06.94-2.06 2.06-.94-2.06-.94-.94-2.06-.94 2.06-2.06.94z\"/><path d=\"M17.41 7.96l-1.37-1.37c-.4-.4-.92-.59-1.43-.59-.52 0-1.04.2-1.43.59L10.3 9.45l-7.72 7.72c-.78.78-.78 2.05 0 2.83L4 21.41c.39.39.9.59 1.41.59.51 0 1.02-.2 1.41-.59l7.78-7.78 2.81-2.81c.8-.78.8-2.07 0-2.86zM5.41 20L4 18.59l7.72-7.72 1.47 1.35L5.41 20z\"/>\n",
              "  </svg>\n",
              "      </button>\n",
              "\n",
              "\n",
              "\n",
              "    <div id=\"df-082838af-c6fa-4714-9757-4846a52d7a47\">\n",
              "      <button class=\"colab-df-quickchart\" onclick=\"quickchart('df-082838af-c6fa-4714-9757-4846a52d7a47')\"\n",
              "              title=\"Suggest charts.\"\n",
              "              style=\"display:none;\">\n",
              "\n",
              "<svg xmlns=\"http://www.w3.org/2000/svg\" height=\"24px\"viewBox=\"0 0 24 24\"\n",
              "     width=\"24px\">\n",
              "    <g>\n",
              "        <path d=\"M19 3H5c-1.1 0-2 .9-2 2v14c0 1.1.9 2 2 2h14c1.1 0 2-.9 2-2V5c0-1.1-.9-2-2-2zM9 17H7v-7h2v7zm4 0h-2V7h2v10zm4 0h-2v-4h2v4z\"/>\n",
              "    </g>\n",
              "</svg>\n",
              "      </button>\n",
              "    </div>\n",
              "\n",
              "<style>\n",
              "  .colab-df-quickchart {\n",
              "    background-color: #E8F0FE;\n",
              "    border: none;\n",
              "    border-radius: 50%;\n",
              "    cursor: pointer;\n",
              "    display: none;\n",
              "    fill: #1967D2;\n",
              "    height: 32px;\n",
              "    padding: 0 0 0 0;\n",
              "    width: 32px;\n",
              "  }\n",
              "\n",
              "  .colab-df-quickchart:hover {\n",
              "    background-color: #E2EBFA;\n",
              "    box-shadow: 0px 1px 2px rgba(60, 64, 67, 0.3), 0px 1px 3px 1px rgba(60, 64, 67, 0.15);\n",
              "    fill: #174EA6;\n",
              "  }\n",
              "\n",
              "  [theme=dark] .colab-df-quickchart {\n",
              "    background-color: #3B4455;\n",
              "    fill: #D2E3FC;\n",
              "  }\n",
              "\n",
              "  [theme=dark] .colab-df-quickchart:hover {\n",
              "    background-color: #434B5C;\n",
              "    box-shadow: 0px 1px 3px 1px rgba(0, 0, 0, 0.15);\n",
              "    filter: drop-shadow(0px 1px 2px rgba(0, 0, 0, 0.3));\n",
              "    fill: #FFFFFF;\n",
              "  }\n",
              "</style>\n",
              "\n",
              "    <script>\n",
              "      async function quickchart(key) {\n",
              "        const containerElement = document.querySelector('#' + key);\n",
              "        const charts = await google.colab.kernel.invokeFunction(\n",
              "            'suggestCharts', [key], {});\n",
              "      }\n",
              "    </script>\n",
              "\n",
              "      <script>\n",
              "\n",
              "function displayQuickchartButton(domScope) {\n",
              "  let quickchartButtonEl =\n",
              "    domScope.querySelector('#df-082838af-c6fa-4714-9757-4846a52d7a47 button.colab-df-quickchart');\n",
              "  quickchartButtonEl.style.display =\n",
              "    google.colab.kernel.accessAllowed ? 'block' : 'none';\n",
              "}\n",
              "\n",
              "        displayQuickchartButton(document);\n",
              "      </script>\n",
              "      <style>\n",
              "    .colab-df-container {\n",
              "      display:flex;\n",
              "      flex-wrap:wrap;\n",
              "      gap: 12px;\n",
              "    }\n",
              "\n",
              "    .colab-df-convert {\n",
              "      background-color: #E8F0FE;\n",
              "      border: none;\n",
              "      border-radius: 50%;\n",
              "      cursor: pointer;\n",
              "      display: none;\n",
              "      fill: #1967D2;\n",
              "      height: 32px;\n",
              "      padding: 0 0 0 0;\n",
              "      width: 32px;\n",
              "    }\n",
              "\n",
              "    .colab-df-convert:hover {\n",
              "      background-color: #E2EBFA;\n",
              "      box-shadow: 0px 1px 2px rgba(60, 64, 67, 0.3), 0px 1px 3px 1px rgba(60, 64, 67, 0.15);\n",
              "      fill: #174EA6;\n",
              "    }\n",
              "\n",
              "    [theme=dark] .colab-df-convert {\n",
              "      background-color: #3B4455;\n",
              "      fill: #D2E3FC;\n",
              "    }\n",
              "\n",
              "    [theme=dark] .colab-df-convert:hover {\n",
              "      background-color: #434B5C;\n",
              "      box-shadow: 0px 1px 3px 1px rgba(0, 0, 0, 0.15);\n",
              "      filter: drop-shadow(0px 1px 2px rgba(0, 0, 0, 0.3));\n",
              "      fill: #FFFFFF;\n",
              "    }\n",
              "  </style>\n",
              "\n",
              "      <script>\n",
              "        const buttonEl =\n",
              "          document.querySelector('#df-4d9410f6-ec3e-483f-bb3f-47bbe53f360c button.colab-df-convert');\n",
              "        buttonEl.style.display =\n",
              "          google.colab.kernel.accessAllowed ? 'block' : 'none';\n",
              "\n",
              "        async function convertToInteractive(key) {\n",
              "          const element = document.querySelector('#df-4d9410f6-ec3e-483f-bb3f-47bbe53f360c');\n",
              "          const dataTable =\n",
              "            await google.colab.kernel.invokeFunction('convertToInteractive',\n",
              "                                                     [key], {});\n",
              "          if (!dataTable) return;\n",
              "\n",
              "          const docLinkHtml = 'Like what you see? Visit the ' +\n",
              "            '<a target=\"_blank\" href=https://colab.research.google.com/notebooks/data_table.ipynb>data table notebook</a>'\n",
              "            + ' to learn more about interactive tables.';\n",
              "          element.innerHTML = '';\n",
              "          dataTable['output_type'] = 'display_data';\n",
              "          await google.colab.output.renderOutput(dataTable, element);\n",
              "          const docLink = document.createElement('div');\n",
              "          docLink.innerHTML = docLinkHtml;\n",
              "          element.appendChild(docLink);\n",
              "        }\n",
              "      </script>\n",
              "    </div>\n",
              "  </div>\n"
            ]
          },
          "metadata": {},
          "execution_count": 7
        }
      ]
    },
    {
      "cell_type": "code",
      "source": [
        "test_data = pd.read_csv(csv_path+\"test_data.csv\", header=None, encoding=\"utf-8\")\n",
        "test_data.columns = [\"text\", \"label\"]\n",
        "test_data_list = test_data[\"text\"].values.tolist()\n",
        "test_data"
      ],
      "metadata": {
        "colab": {
          "base_uri": "https://localhost:8080/",
          "height": 424
        },
        "id": "7oKWrYAJCoW8",
        "outputId": "48daec11-7035-4895-9825-7ee75f2f9caa"
      },
      "execution_count": null,
      "outputs": [
        {
          "output_type": "execute_result",
          "data": {
            "text/plain": [
              "                                                   text  label\n",
              "0     推定年収5000万円と伝えられながらも、母親が生活保護を受給していると報道されていた人気お笑...      8\n",
              "1     美枝さん（IT関係・37歳）は婚活ブームの初期の頃、同僚に誘われて大人数制の婚活パーティーに...      3\n",
              "2     アクション・ドラマの傑作『レオン』から18年、その遺伝子を受け継ぐ新たなヒロインが誕生！『レ...      0\n",
              "3     トムがイェーーイ！！全米ロック史上最強のミュージカルを映画化した『ロック・オブ・エイジズ』が...      0\n",
              "4     “人を好きになる気持ち”ってどんな気持ちだっけ？最後に“恋”をしたのはいつだろう？年を重ねる...      3\n",
              "...                                                 ...    ...\n",
              "1920  潤沢な大容量RAMと内蔵メモリを搭載した超快適動作のスマートフォン！ 既報通り、NTTドコモ...      1\n",
              "1921  インターネットやパソコンは若者やビジネスパーソンだけのものではない。電通が、シニア層のネット...      4\n",
              "1922  バルセロナ五輪メダリストで、現在はプロレスラーとして活躍する暴走王・小川直也が参院選を表明し...      2\n",
              "1923  2008年12月に成田—ゴールドコースト線、成田—ケアンズ線に就航して以来、昨年で1周年を迎...      7\n",
              "1924  今週発売の週刊誌「女性セブン」（5月12・19日号）には、衝撃的な見出しが躍った。なんと、「...      2\n",
              "\n",
              "[1925 rows x 2 columns]"
            ],
            "text/html": [
              "\n",
              "\n",
              "  <div id=\"df-f6116d2e-fdc5-487a-aaa3-778e1dc3fc81\">\n",
              "    <div class=\"colab-df-container\">\n",
              "      <div>\n",
              "<style scoped>\n",
              "    .dataframe tbody tr th:only-of-type {\n",
              "        vertical-align: middle;\n",
              "    }\n",
              "\n",
              "    .dataframe tbody tr th {\n",
              "        vertical-align: top;\n",
              "    }\n",
              "\n",
              "    .dataframe thead th {\n",
              "        text-align: right;\n",
              "    }\n",
              "</style>\n",
              "<table border=\"1\" class=\"dataframe\">\n",
              "  <thead>\n",
              "    <tr style=\"text-align: right;\">\n",
              "      <th></th>\n",
              "      <th>text</th>\n",
              "      <th>label</th>\n",
              "    </tr>\n",
              "  </thead>\n",
              "  <tbody>\n",
              "    <tr>\n",
              "      <th>0</th>\n",
              "      <td>推定年収5000万円と伝えられながらも、母親が生活保護を受給していると報道されていた人気お笑...</td>\n",
              "      <td>8</td>\n",
              "    </tr>\n",
              "    <tr>\n",
              "      <th>1</th>\n",
              "      <td>美枝さん（IT関係・37歳）は婚活ブームの初期の頃、同僚に誘われて大人数制の婚活パーティーに...</td>\n",
              "      <td>3</td>\n",
              "    </tr>\n",
              "    <tr>\n",
              "      <th>2</th>\n",
              "      <td>アクション・ドラマの傑作『レオン』から18年、その遺伝子を受け継ぐ新たなヒロインが誕生！『レ...</td>\n",
              "      <td>0</td>\n",
              "    </tr>\n",
              "    <tr>\n",
              "      <th>3</th>\n",
              "      <td>トムがイェーーイ！！全米ロック史上最強のミュージカルを映画化した『ロック・オブ・エイジズ』が...</td>\n",
              "      <td>0</td>\n",
              "    </tr>\n",
              "    <tr>\n",
              "      <th>4</th>\n",
              "      <td>“人を好きになる気持ち”ってどんな気持ちだっけ？最後に“恋”をしたのはいつだろう？年を重ねる...</td>\n",
              "      <td>3</td>\n",
              "    </tr>\n",
              "    <tr>\n",
              "      <th>...</th>\n",
              "      <td>...</td>\n",
              "      <td>...</td>\n",
              "    </tr>\n",
              "    <tr>\n",
              "      <th>1920</th>\n",
              "      <td>潤沢な大容量RAMと内蔵メモリを搭載した超快適動作のスマートフォン！ 既報通り、NTTドコモ...</td>\n",
              "      <td>1</td>\n",
              "    </tr>\n",
              "    <tr>\n",
              "      <th>1921</th>\n",
              "      <td>インターネットやパソコンは若者やビジネスパーソンだけのものではない。電通が、シニア層のネット...</td>\n",
              "      <td>4</td>\n",
              "    </tr>\n",
              "    <tr>\n",
              "      <th>1922</th>\n",
              "      <td>バルセロナ五輪メダリストで、現在はプロレスラーとして活躍する暴走王・小川直也が参院選を表明し...</td>\n",
              "      <td>2</td>\n",
              "    </tr>\n",
              "    <tr>\n",
              "      <th>1923</th>\n",
              "      <td>2008年12月に成田—ゴールドコースト線、成田—ケアンズ線に就航して以来、昨年で1周年を迎...</td>\n",
              "      <td>7</td>\n",
              "    </tr>\n",
              "    <tr>\n",
              "      <th>1924</th>\n",
              "      <td>今週発売の週刊誌「女性セブン」（5月12・19日号）には、衝撃的な見出しが躍った。なんと、「...</td>\n",
              "      <td>2</td>\n",
              "    </tr>\n",
              "  </tbody>\n",
              "</table>\n",
              "<p>1925 rows × 2 columns</p>\n",
              "</div>\n",
              "      <button class=\"colab-df-convert\" onclick=\"convertToInteractive('df-f6116d2e-fdc5-487a-aaa3-778e1dc3fc81')\"\n",
              "              title=\"Convert this dataframe to an interactive table.\"\n",
              "              style=\"display:none;\">\n",
              "\n",
              "  <svg xmlns=\"http://www.w3.org/2000/svg\" height=\"24px\"viewBox=\"0 0 24 24\"\n",
              "       width=\"24px\">\n",
              "    <path d=\"M0 0h24v24H0V0z\" fill=\"none\"/>\n",
              "    <path d=\"M18.56 5.44l.94 2.06.94-2.06 2.06-.94-2.06-.94-.94-2.06-.94 2.06-2.06.94zm-11 1L8.5 8.5l.94-2.06 2.06-.94-2.06-.94L8.5 2.5l-.94 2.06-2.06.94zm10 10l.94 2.06.94-2.06 2.06-.94-2.06-.94-.94-2.06-.94 2.06-2.06.94z\"/><path d=\"M17.41 7.96l-1.37-1.37c-.4-.4-.92-.59-1.43-.59-.52 0-1.04.2-1.43.59L10.3 9.45l-7.72 7.72c-.78.78-.78 2.05 0 2.83L4 21.41c.39.39.9.59 1.41.59.51 0 1.02-.2 1.41-.59l7.78-7.78 2.81-2.81c.8-.78.8-2.07 0-2.86zM5.41 20L4 18.59l7.72-7.72 1.47 1.35L5.41 20z\"/>\n",
              "  </svg>\n",
              "      </button>\n",
              "\n",
              "\n",
              "\n",
              "    <div id=\"df-afd4bcde-7407-475f-a23d-ea77a0e92be7\">\n",
              "      <button class=\"colab-df-quickchart\" onclick=\"quickchart('df-afd4bcde-7407-475f-a23d-ea77a0e92be7')\"\n",
              "              title=\"Suggest charts.\"\n",
              "              style=\"display:none;\">\n",
              "\n",
              "<svg xmlns=\"http://www.w3.org/2000/svg\" height=\"24px\"viewBox=\"0 0 24 24\"\n",
              "     width=\"24px\">\n",
              "    <g>\n",
              "        <path d=\"M19 3H5c-1.1 0-2 .9-2 2v14c0 1.1.9 2 2 2h14c1.1 0 2-.9 2-2V5c0-1.1-.9-2-2-2zM9 17H7v-7h2v7zm4 0h-2V7h2v10zm4 0h-2v-4h2v4z\"/>\n",
              "    </g>\n",
              "</svg>\n",
              "      </button>\n",
              "    </div>\n",
              "\n",
              "<style>\n",
              "  .colab-df-quickchart {\n",
              "    background-color: #E8F0FE;\n",
              "    border: none;\n",
              "    border-radius: 50%;\n",
              "    cursor: pointer;\n",
              "    display: none;\n",
              "    fill: #1967D2;\n",
              "    height: 32px;\n",
              "    padding: 0 0 0 0;\n",
              "    width: 32px;\n",
              "  }\n",
              "\n",
              "  .colab-df-quickchart:hover {\n",
              "    background-color: #E2EBFA;\n",
              "    box-shadow: 0px 1px 2px rgba(60, 64, 67, 0.3), 0px 1px 3px 1px rgba(60, 64, 67, 0.15);\n",
              "    fill: #174EA6;\n",
              "  }\n",
              "\n",
              "  [theme=dark] .colab-df-quickchart {\n",
              "    background-color: #3B4455;\n",
              "    fill: #D2E3FC;\n",
              "  }\n",
              "\n",
              "  [theme=dark] .colab-df-quickchart:hover {\n",
              "    background-color: #434B5C;\n",
              "    box-shadow: 0px 1px 3px 1px rgba(0, 0, 0, 0.15);\n",
              "    filter: drop-shadow(0px 1px 2px rgba(0, 0, 0, 0.3));\n",
              "    fill: #FFFFFF;\n",
              "  }\n",
              "</style>\n",
              "\n",
              "    <script>\n",
              "      async function quickchart(key) {\n",
              "        const containerElement = document.querySelector('#' + key);\n",
              "        const charts = await google.colab.kernel.invokeFunction(\n",
              "            'suggestCharts', [key], {});\n",
              "      }\n",
              "    </script>\n",
              "\n",
              "      <script>\n",
              "\n",
              "function displayQuickchartButton(domScope) {\n",
              "  let quickchartButtonEl =\n",
              "    domScope.querySelector('#df-afd4bcde-7407-475f-a23d-ea77a0e92be7 button.colab-df-quickchart');\n",
              "  quickchartButtonEl.style.display =\n",
              "    google.colab.kernel.accessAllowed ? 'block' : 'none';\n",
              "}\n",
              "\n",
              "        displayQuickchartButton(document);\n",
              "      </script>\n",
              "      <style>\n",
              "    .colab-df-container {\n",
              "      display:flex;\n",
              "      flex-wrap:wrap;\n",
              "      gap: 12px;\n",
              "    }\n",
              "\n",
              "    .colab-df-convert {\n",
              "      background-color: #E8F0FE;\n",
              "      border: none;\n",
              "      border-radius: 50%;\n",
              "      cursor: pointer;\n",
              "      display: none;\n",
              "      fill: #1967D2;\n",
              "      height: 32px;\n",
              "      padding: 0 0 0 0;\n",
              "      width: 32px;\n",
              "    }\n",
              "\n",
              "    .colab-df-convert:hover {\n",
              "      background-color: #E2EBFA;\n",
              "      box-shadow: 0px 1px 2px rgba(60, 64, 67, 0.3), 0px 1px 3px 1px rgba(60, 64, 67, 0.15);\n",
              "      fill: #174EA6;\n",
              "    }\n",
              "\n",
              "    [theme=dark] .colab-df-convert {\n",
              "      background-color: #3B4455;\n",
              "      fill: #D2E3FC;\n",
              "    }\n",
              "\n",
              "    [theme=dark] .colab-df-convert:hover {\n",
              "      background-color: #434B5C;\n",
              "      box-shadow: 0px 1px 3px 1px rgba(0, 0, 0, 0.15);\n",
              "      filter: drop-shadow(0px 1px 2px rgba(0, 0, 0, 0.3));\n",
              "      fill: #FFFFFF;\n",
              "    }\n",
              "  </style>\n",
              "\n",
              "      <script>\n",
              "        const buttonEl =\n",
              "          document.querySelector('#df-f6116d2e-fdc5-487a-aaa3-778e1dc3fc81 button.colab-df-convert');\n",
              "        buttonEl.style.display =\n",
              "          google.colab.kernel.accessAllowed ? 'block' : 'none';\n",
              "\n",
              "        async function convertToInteractive(key) {\n",
              "          const element = document.querySelector('#df-f6116d2e-fdc5-487a-aaa3-778e1dc3fc81');\n",
              "          const dataTable =\n",
              "            await google.colab.kernel.invokeFunction('convertToInteractive',\n",
              "                                                     [key], {});\n",
              "          if (!dataTable) return;\n",
              "\n",
              "          const docLinkHtml = 'Like what you see? Visit the ' +\n",
              "            '<a target=\"_blank\" href=https://colab.research.google.com/notebooks/data_table.ipynb>data table notebook</a>'\n",
              "            + ' to learn more about interactive tables.';\n",
              "          element.innerHTML = '';\n",
              "          dataTable['output_type'] = 'display_data';\n",
              "          await google.colab.output.renderOutput(dataTable, element);\n",
              "          const docLink = document.createElement('div');\n",
              "          docLink.innerHTML = docLinkHtml;\n",
              "          element.appendChild(docLink);\n",
              "        }\n",
              "      </script>\n",
              "    </div>\n",
              "  </div>\n"
            ]
          },
          "metadata": {},
          "execution_count": 8
        }
      ]
    },
    {
      "cell_type": "code",
      "source": [
        "# BoWを適用するためにword_listを作成\n",
        "# https://qiita.com/yasunori/items/31a23eb259482e4824e2\n",
        "\n",
        "words_list = list(map(doc2word_list, train_data_list))\n",
        "print(words_list[0])"
      ],
      "metadata": {
        "colab": {
          "base_uri": "https://localhost:8080/"
        },
        "id": "goHHs1XuoNv3",
        "outputId": "ce052ca1-1863-4e7a-cb7e-8a378fddc0ce"
      },
      "execution_count": null,
      "outputs": [
        {
          "output_type": "stream",
          "name": "stdout",
          "text": [
            "['お盆', '帰省', '沙織', 'さん', '*', '歳', '実家', 'とんでも', '顔', '実家', '親戚', 'たち', '口々', '結婚', '母', '祖母', '結婚', '言葉', 'みんな', '私', '結婚', '楽しみ', 'の', 'ん', 'それ', 'プレッシャー', 'ん', '結婚', 'もの', '結婚', '沙織', 'さん', 'よう', '婚', '活', '中', '独', '女', 'プレッシャー', 'よう', '独', '女', '母', '正美', 'さん', '*', '歳', '世間', '娘', 'さん', '結婚', '仕事', '婉曲', '仕事', '楽', '職場', '無遠慮', '言葉', '余計', 'お世話', 'お節介', '何', '度', 'そう', '人', '心', '領域', '土足', 'よう', '真似', 'ん', '正美', 'さん', '首', '人', '嫌', 'こと', '人', 'こと', '純粋', '好奇', '心', '無神経', 'こと', '人', 'うち', '課', '定年', '男性', '社員', 'ん', '他', '課', '社員', '昼休み', '声', '定年', '後', 'の', '就職', '先', 'みたい', '気の毒', '気', '洋子', 'さん', '*', '歳', '父', '入院', '会社', '先輩', '病名', '癌', '入院', '後悔', '声', '本人', '悪意', '方', '困惑', '場合', '今年', '会社', '員', 'まゆ', 'かさん', '*', '歳', '法事', '席', '久しぶり', '父方', '伯母', '給料', 'そう', '側', '父', '人', 'よう', '額', '代わり', 'それ', '以上', 'こと', '伯母', '母', '父', 'ボーナス', '額', 'ん', 'いくら', '親戚', 'ひと', '財布', '*', 'まゆ', 'かさん', '憤慨', '北京', '五輪', '前', '市民', 'マナー', '向上', '北京', '当局', '外国', '人', '*', '質問', 'の', '個人', 'プライバシー', '家族', 'こと', '収入', '支出', '家族', '財産', '年齢', '結婚', '有無', '健康', '状態', '家族', '住所', '出身', '地', '政治', '信仰', '性', '生活', '人', 'の', '相手', 'こと', 'こと', '中', 'タブー', '会社', 'その後', '今', '人', '給料', 'いくら', '相手', '限り', 'こちら', '方', 'プライベート', '人間', '関係', '結婚', '相手', '*', '佐', '枝', 'せつこ', '参考', 'ニュース', '北京', '五輪', '向け', 'マナー', '対策', '*', '質問', '禁止', '記事', '執筆', '者', '佐', '枝', 'せつこ', 'テレビ局', '勤務', '小説', '著書', '*', '回', '横溝', '正史', 'ミステリー', '大賞', '最終', '候補', '作', '*', '家内', '安全', '光', '冠', 'ほか', '*', '年', '独', '女', '通信', '執筆', '陣', '参加', '婦人', '公論', '母親', 'たち', '極寒', '婚', '活', '模様', '掲載', '婚', '活', '介護', '婚', '外', '恋愛', '女性', '様々', '生き方', 'テーマ', '執筆', '活動', '展開', '中', 'オフィス', '*', '公式', 'サイト']\n"
          ]
        }
      ]
    },
    {
      "cell_type": "markdown",
      "source": [
        "ここまでで分かち書きされた文章のリスト（2次元）がtest_csvのデータに対して作成完了\n",
        "\n",
        "\n",
        "\n",
        "---\n",
        "\n",
        "\n",
        "\n",
        "---\n",
        "\n"
      ],
      "metadata": {
        "id": "cUKVk3pwoQnT"
      }
    },
    {
      "cell_type": "code",
      "source": [
        "from gensim import corpora\n",
        "\n",
        "# 特徴語辞書を作る\n",
        "dic = corpora.Dictionary(words_list)\n",
        "dic.filter_extremes(no_below = 20, no_above = 0.3)\n",
        "bow_corpus = [dic.doc2bow(d) for d in words_list]\n",
        "# 辞書の保存(未知文書分類のため)\n",
        "dic.save_as_text('/content/drive/My Drive/svm_cls/testdic.txt')"
      ],
      "metadata": {
        "id": "DLBKYT0JoYmZ"
      },
      "execution_count": null,
      "outputs": []
    },
    {
      "cell_type": "markdown",
      "source": [
        "\n",
        "ここまでがBoW\n",
        "\n",
        "\n",
        "---\n",
        "\n",
        "\n",
        "---\n",
        "\n"
      ],
      "metadata": {
        "id": "4WCkcYIvobIy"
      }
    },
    {
      "cell_type": "code",
      "source": [
        "from gensim import models\n",
        "\n",
        "tfidf_model = models.TfidfModel(bow_corpus)\n",
        "tfidf_corpus = tfidf_model[bow_corpus]\n",
        "#tf-idfモデルの保存(未知文書分類のため)\n",
        "tfidf_model.save('/content/drive/My Drive/svm_cls/tfidf_model.model')"
      ],
      "metadata": {
        "id": "1Eun8ysUoiu2"
      },
      "execution_count": null,
      "outputs": []
    },
    {
      "cell_type": "code",
      "source": [
        "from gensim import models\n",
        "\n",
        "# LSI次元圧縮\n",
        "lsi_model = models.LsiModel(tfidf_corpus, id2word = dic, num_topics = 300)\n",
        "lsi_corpus = lsi_model[tfidf_corpus]\n",
        "#lsiモデルの保存(未知文書分類のため)\n",
        "lsi_model.save('/content/drive/My Drive/svm_cls/lsi_model.model')\n",
        "\n",
        "# corpusはgensimで入力として使うための形式"
      ],
      "metadata": {
        "id": "76IGQ2kgoksu"
      },
      "execution_count": null,
      "outputs": []
    },
    {
      "cell_type": "code",
      "source": [
        "i= 0\n",
        "for doc, as_text in zip(lsi_corpus, train_data[\"text\"]):\n",
        "    print(doc, as_text)\n",
        "    i+=1\n",
        "\n",
        "    if i >= 5:\n",
        "      break"
      ],
      "metadata": {
        "colab": {
          "base_uri": "https://localhost:8080/"
        },
        "id": "Y8mF5wD-LKrq",
        "outputId": "8ba28016-57c4-4f24-d2bb-42796d49f57c"
      },
      "execution_count": null,
      "outputs": [
        {
          "output_type": "stream",
          "name": "stdout",
          "text": [
            "[(0, 0.20646865950835094), (1, 0.16407384904754446)] お盆に帰省した沙織さん（30歳）に「実家は楽しかった？」と聞くと、「楽しいなんてとんでもない」と険しい顔が返ってきた。実家に集まった親戚たちからは口々に「結婚はまだか」と聞かれ、母や祖母には結婚を急かす言葉まで浴びせられた。「みんなが私の結婚を楽しみにしているのは分かるんですけど、それってすごいプレッシャーなんです。焦っても結婚できるものではないじゃないですか」「結婚はまだ？」という問いかけは、沙織さんのような婚活中の独女にはものすごいプレッシャーになるようだが、独女の母、正美さん（56歳）も世間からの「娘さん、結婚はまだ？」には悩まされている。「仕事が忙しいらしくて」と婉曲に答えれば、「仕事を辞めさせたら」とか「楽な職場に変われば」と無遠慮な言葉まで投げかけられ、「余計なお世話、大きなお節介です」と何度も叫びそうになったとか。「人って、どうして踏みこんでほしくない心の領域に、土足で入ってくるような真似をするんでしょうか」と正美さんは首を傾げる。「人に聞かれて嫌なことは人にも聞かない」とはよく言われることだが、純粋な好奇心から無神経なことを聞く人はいる。「うちの課でもうすぐ定年の男性社員がいるんですが、他の課の社員が昼休みに大きな声で、定年後どうするのって聞いていました。再就職先も決まっていないみたいだったので、何だかお気の毒な気がしました」と洋子さん（32歳）。「父が入院したと会社で話したら先輩から病名を聞かれて、癌だと言いたくなくて、入院を話さなければよかったと後悔しました」という声もあった。聞いた本人に悪意はないだけに、聞かれた方は困惑する場合は多い。今年から会社員になったまゆかさん（23歳）は、法事の席で久しぶりに会った父方の伯母から「給料はいくらもらっているの？」と聞かれたそうだ。「側にいた父が、人に誇れるような額はもらっていないからと代わりに答えてくれたので、それ以上聞かれることはありませんでしたが、その伯母は母にも父のボーナスの額を聞いたらしいんです。いくら親戚でもひとのお財布を覗きこむようなことはしてはいけないんじゃないですか！」とまゆかさんは憤慨していた。北京五輪を前に市民のマナー向上に北京当局がまとめた「外国人に聞いてはいけない8つの質問」というのがある。・個人のプライバシーや家族のことについては、尋ねてはいけない・収入や支出については、尋ねてはいけない・家族の財産については、尋ねてはいけない・年齢や結婚の有無については、尋ねてはいけない・健康状態については、尋ねてはいけない・家族の住所・出身地については、尋ねてはいけない・政治や信仰については、尋ねてはいけない・性生活については、尋ねてはいけないドキッとした人もいるのではないだろうか？親しくなると相手のことをいろいろ知りたくなる。親しいからこそ、つい聞いてしまうこともある。しかし親しき中にも聞いてはいけないタブーはある。「会社を辞めてその後、どうするの？」「今付き合っている人はいるの？」「お給料いくらもらっているの？」なども、相手が言わない限り、こちらからは聞かない方がいい。プライベートに踏みこみすぎると人間関係はぎくしゃくする。「結婚はまだ？」も相手から言われるまでは、聞いてはいけない。（オフィスエムツー／佐枝せつこ）・参考ニュース／北京五輪向けマナー対策で「8つの質問禁止」この記事の執筆者佐枝せつこテレビ局勤務を経て小説を書き始める。著書に第24回横溝正史ミステリー大賞最終候補作「ベッド・イズ・バッド」「家内安全」「光冠」ほか。2007年より「独女通信」の執筆陣に参加。「婦人公論」に母親たちの極寒婚活模様が掲載。婚活、介護、婚外、恋愛など女性の様々な生き方をテーマに執筆活動を展開中。・オフィス saeda 公式サイト\n",
            "[(0, 0.15624272317494742), (1, 0.12620014342771)] 前篇が観客動員数150万人を突破し、大ヒットしている映画『僕等がいた』。4月21日には、ついに後篇が公開され、吉高由里子演じる七美と生田斗真演じる矢野の恋の行方が明らかになる。前回「オトナ女子映画部」のコーナーで、前篇について「いま最も“女ウケ”が良い吉高由里子の魅力『僕等がいた』前篇」という記事で紹介したが、そもそもこの映画が前篇・後篇に分けられている事に少し言及してみたい。超大作のSF、サスペンス作品やファンタジーを「サーガ」としてシリーズ化するならともかく、現代の恋愛ドラマを2部構成で上映するというのは異例のことだろう。本作に関して「え、これって前篇・後篇なの？」と驚いた人も少なくはないだろう。ここには『僕等がいた』の原作が、出会いを描いた高校生のストーリーと、ある事件をきっかけに主人公が社会人になってからのストーリーに時間がスキップすることから、そのブランクの「時間」に意味を持たせたいというプロデューサーの想いがこめられている。この後篇を観てみると、普通のドラマ・映画にありがちな「キャラクターが急に成長している違和感」に興ざめする事が無く、むしろ間に空いた1カ月という時間が「七美と矢野はどうなってしまうんだろう」と実際に友人の恋愛を見ている様にヤキモキすることが出来てとても新鮮だった。そして、前篇がピュアなラブストーリーであったため、“あえて”大人の女性におすすめ出来る物であったのに対し、後篇は“ストレート”に大人の女性におすすめ出来る作品となっている。永遠の愛を誓いあったのに、あるきっかけで離れ離れになってしまう2人。前篇では「ああ、そういえば私も10代の時“一生一緒にいようね”とか“将来結婚しようね”とか言ったなぁ……」とセンチメンタルな気持ちになるのだが、七美のすごい所は一度遠く離れてしまっても、矢野を想い続けるところにある。映画の中では、矢野の突然の失踪というドラマティックな展開もある。しかし、そんな劇的な出来事が起こらなかったとしても、一つの恋愛を長年守り、育てていくことの難しさは大人には分かるはずだ。よく「人間誰でも一度は面白い物語が書ける」と言われる。どんなに平凡に見える恋愛でも、知られざるドラマがある。苦悩や葛藤を乗り越えて幸せを手にする2人の姿にきっと勇気をもらえることだろう。“僕等”というのは、なにも七美と矢野のことだけでは無い、あなたにもきっと忘れられない恋愛がある。この作品を観て今の恋を大切に、新しい恋に前向きになって欲しいと思う。（中村梢）■公開情報『僕等がいた』(C)2012「僕等がいた」製作委員会 (C)2002小畑友紀／小学館3.17[前篇] 4.21[後篇] 2部作連続ロードショー配給：東宝、アスミック・エース\n",
            "[(0, 0.09307725854977504), (1, 0.025343858518218763)] いよいよ、差し迫ったバレンタインデー。彼にあげるだけでなく、自分でも美味しいチョコレートを味わいたいなら、常に進化し続けるピエールマルコリーニがおススメ！「“美味しさ”は時代によって変化する」というマルコリーニの言葉通り、ピエールマルコリーニを代表する一箱「エボリューション」が登場しました。カシスやプラリネシトロンなどの新作フルーツ系フレーバーの詰め合わせで、食べた人に「もうひとつ食べたい」と思わせる何とも罪作りな願いが込められたチョコレートで、彼よりも自分が楽しんじゃうかも！？また、ピエールマルコリーニのカフェでは特別メニューも限定で登場しています。甘酸っぱいフランボワーズのジュレに、チョコレートムースを合わせ、フランボワーズのチョコレートが飾られた見た目も愛らしいスイーツです。＜詳細＞期間：1月25日〜2月15日実施店舗：銀座店・名古屋店■関連リンク・ピエールマルコリーニ公式サイト\n",
            "[(0, 0.1648821256008307), (1, 0.052740118801962235)] 父親にとって、娘は目に入れても痛くないと思わせるほど、愛おしく、大切な存在だ。誕生し、成長し、いずれはほかの男性に嫁いでいくと理屈ではわかっていても、心の奥底では納得できないものだ。父と娘の間には、父から娘へ、娘から父への愛情がシンクロし、お互いの愛情を通わせあえる蜜月のような時期がある。恋愛とも、親子愛とも違う、至福な時間の共有を体験できる写真展NEXT GENERATION 久保和範写真展「恋人」が、東京・銀座にあるリコーフォトギャラリーRING CUBE 9Fフォトスペースにて2012年5月30日より展示している。■新しい写真家の息吹！有望な若手作家の登竜門NEXT GENERATION日本の若い写真家たちにとって、大きな場で作品を発表しいていく機会が少なく、作家として活動を継続し、世に出ていくことが難しいと言われている。こうした状況のなか、東京・銀座にあるリコーフォトギャラリーRINGCUBEでは、若い作家に対して、無償で展示スペースを提供し、より多くの人に新しい有望な写真家の作品を見て、知ってもらいたいという思いから「NEXT GENERATION」という企画写真展をスタートさせた。今回の久保和範写真展「恋人」は、「NEXT GENERATION」での8人目の展示となる。 久保和範写真展「恋人」のようす ■久保和範 氏のプロフィール1978年、鹿児島県いちき串木野市生まれ高校、大学と陸上競技(100Ｍ走)に没頭。（日本選手権、日本インカレ等に出場）2009年、娘がクラシックバレエを習い始めたのをきっかけに、デジタル一眼レフを購入。写真を撮る楽しさを知る。2011年、プリンター湯地信愛氏と出会い、カラーネガフィルムによる作品制作を開始。同年、御苗場 vol.9 関西へ出展、 RING CUBE賞 ・オーディエンズ 第一位を受賞。現在、三重県伊賀市在住、食品メーカー勤務写真展概要名 称：NEXT GENERATION 久保和範写真展「恋人」期 間：2012年5月30日（水）〜6月18日（月）※休館日を除く場 所：リコーフォトギャラリーRING CUBE 9Fフォトスペース所 在 地：東京都中央区銀座5-7-2 三愛ドリームセンター8階/9階（受付）電 話：03-3289-1521開館時間：11：00〜20：00 (最終日17：00まで)休 館 日：火曜日入場 料：無料■リコーフォトギャラリー「RING CUBE」■RING CUBEの記事をもっと見る・斬新なアート表現と生命力！フィリピンの「今」が見られる「The Hope & The Dream in Filipino - Section III」・3姉妹の成長を瞬間的に捉えた妖艶で可憐な世界観【新-写真空間】・どうやって撮ったの？コンデジで驚きの不思議な写真「Naked Flower（裸の花）」【新-写真空間】・2ヶ月で全国を走り抜けた写真！若さを行動で表現して魂を繋ぐ【GRバトン 写真家リレー】・写真魂のバトンリレー！GRデジタルをバトンに若き写真家たちの駅伝写真展がスタート\n",
            "[(0, 0.18448212476171913), (1, 0.10353347747512244)] これまで数々のスーパーヒーローを生み出してきたマーベルが、わずか一本の映画のために最強のヒーローたちを集結させ、空前のスケールで描かれるアクションと、奥深い人間ドラマを共存させた“100年に一度の映画プロジェクト”『アベンジャーズ』。2月に解禁となった予告編第2弾は、わずか24時間で1,370万回以上再生され、『ダークナイト・ライジング』（1,250万回）の最高記録を更新。その勢いはすでに日本にまで上陸しており、3月25日に発売された一日限定の特別前売り券には、600人以上が殺到した。5月4日の全米公開に先駆けて、4月11日にはロサンゼルスにて世界最速お披露目となるワールド・プレミアが盛大に開催され、日本語版で紅一点“ブラック・ウィドウ”役のスカーレット・ヨハンソンの吹き替えを演じる女優、米倉涼子が日本人ゲストとして特別参加。続いて4月17日にはロシア・プレミアが、4月19日にはUKプレミアが行われ（いずれも現地時間）、世界中を『アベンジャーズ』最強メンバーが席巻している。ロシア・プレミアでは、アイアンマン（トニー・スターク）役のロバート・ダウニーJr.、美し過ぎる魔性のスパイ／ブラック・ウィドウ役のスカーレット・ヨハンソン、雷神ソー役のクリス・へムズワース、弓の名手ホークアイ役のジェレミー・レナーなど豪華な“アベンジャーズ”メンバーが記者会見に登場。その後、プレミア会場となるモスクワ、オクトーバ—劇場前のレッド・カーペットにメンバーが続々と登場すると、思い思いのキャラクターグッズやメッセージを携えて集まった現地のファン1000人以上が大興奮。250人を超えるプレス（TV26／スチール80）が取材に訪れ、“アベンジャーズ”メンバーも終始和やかな雰囲気で、結束の固い最強チームをアピールしていた。UKプレミアは、ロンドンにあるヨーロッパ最大級のショッピング・モール、ウエストフィールド内のビュー・シネマで行われ、200メートルを超えるレッド・カーペット上で140人を超えるプレス（TV40以上／スチール70以上）が取材を行い、監督のジョス・ウェドン、ロバート・ダウニーJr.、スカーレット・ヨハンソン、クリス・ヘムズワース、ジェレミー・レナー、トム・ヒドルストンなどが登場。ロバート・ダウニーJr.は、今回のUKプレミアについて「すごく楽しいね。大きなショッピングセンターにこんな沢山のファンが集まってくれて、この日を迎えられた事をとても嬉しく思うし、わくわくしてるよ」と興奮気味に喜びを語り、クリス・ヘムズワースも「世界に目を向けると、本当に海外の色んな国からのファンがいて。皆が心待ちにしてくれていたこの映画がやっと命が吹き込まれる感じがして今日この場にやっと立つ事がとても嬉しいよ」と、ファンからの熱い歓迎に感激した様子で語った。取材陣の他、キャストを一目見ようとコスチュームを着たマーベル・ファンなど3,000人以上の観客が詰めかけ、合計4スクリーンで2,000人以上の招待客がプレミア上映を楽しんだ。“アベンジャーズ”メンバーはこの後、4月21日（いずれも現地時間）にローマにて行われたイタリア・プレミアに参加。『アベンジャーズ』現象は全世界を席巻する。・映画『キャプテン・アメリカ ザ・ファースト・アベンジャー』特集・アベンジャーズ - 公式サイト■関連記事・“日米最強女優”米倉涼子がスカーレット・ヨハンソンとの夢の初競演・“アベンジャーズ現象”日本上陸、早朝の六本木ヒルズに長蛇の列が出現・全米で1370万DLを記録、『アベンジャーズ』日本版予告編が遂に解禁・“最強”が集結、『アベンジャーズ』ポスター画像が世界初解禁・最強映画『アベンジャーズ』、“1日限定・数量限定”スペシャル前売券を発売\n"
          ]
        }
      ]
    },
    {
      "cell_type": "code",
      "source": [
        "from gensim import corpora,matutils\n",
        "\n",
        "print(lsi_corpus[0])\n",
        "dense = list(matutils.corpus2dense([lsi_corpus[0]], num_terms=len(dic)).T[0])\n",
        "print(len(dense))"
      ],
      "metadata": {
        "colab": {
          "base_uri": "https://localhost:8080/"
        },
        "id": "ZqEd4mgqMB23",
        "outputId": "47efbe90-64d8-420b-9bd1-45224af6eaed"
      },
      "execution_count": null,
      "outputs": [
        {
          "output_type": "stream",
          "name": "stdout",
          "text": [
            "[(0, 0.20646865950835094), (1, 0.16407384904754446)]\n",
            "5198\n"
          ]
        }
      ]
    },
    {
      "cell_type": "markdown",
      "source": [
        "tfidfとLSIがここまで（この時点ではまだタプル形式）\n",
        "\n",
        "\n",
        "\n",
        "---\n",
        "\n",
        "\n",
        "\n",
        "---\n",
        "\n",
        "\n",
        "ここでmatutils.corpus2dense()を用いて特徴ベクトルに変換\n",
        "\n",
        "\n",
        "使い方：denseがベクトルになる\n",
        "\n",
        "\n",
        "from gensim import corpora,matutils\n",
        "\n",
        "\n",
        "dense = list(matutils.corpus2dense([lsi_corpus[0]],\n",
        "num_terms=len(dic)).T[0])"
      ],
      "metadata": {
        "id": "XQIBSEG4olFT"
      }
    },
    {
      "cell_type": "code",
      "source": [
        "from gensim import corpora,matutils\n",
        "def vec2dense(vec, num_terms):\n",
        "    return list(matutils.corpus2dense([vec], num_terms=num_terms).T[0])\n",
        "len_lsi = len(list(lsi_corpus))\n",
        "train_doc_vec  = [vec2dense(lsi_corpus[i],len(dic)) for i in range(len_lsi)]\n",
        "print(len(train_doc_vec))"
      ],
      "metadata": {
        "colab": {
          "base_uri": "https://localhost:8080/"
        },
        "id": "jzabEHrqpvIc",
        "outputId": "7e2b09d4-29c3-44a3-9748-0f3a25fe8e51"
      },
      "execution_count": null,
      "outputs": [
        {
          "output_type": "stream",
          "name": "stdout",
          "text": [
            "5772\n"
          ]
        }
      ]
    },
    {
      "cell_type": "markdown",
      "source": [
        "これでインプットに使える形式になった\n",
        "\n",
        "\n",
        "---\n",
        "\n",
        "\n",
        "\n",
        "---\n",
        "\n",
        "\n",
        "**Step.2 分類器を訓練してテストしてみる**"
      ],
      "metadata": {
        "id": "63_dU-kVq7R2"
      }
    },
    {
      "cell_type": "code",
      "source": [
        "# 訓練データの正解ラベルを用意\n",
        "train_label = list(train_data[\"label\"])\n",
        "print(len(train_label))"
      ],
      "metadata": {
        "colab": {
          "base_uri": "https://localhost:8080/"
        },
        "id": "nit-crr3A_hJ",
        "outputId": "9e5d7b07-6b6f-486b-a660-5a2038db035b"
      },
      "execution_count": null,
      "outputs": [
        {
          "output_type": "stream",
          "name": "stdout",
          "text": [
            "5772\n"
          ]
        }
      ]
    },
    {
      "cell_type": "code",
      "source": [
        "from sklearn import svm\n",
        "import joblib # sklearn.externalsにバインドしなくて大丈夫\n",
        "\n",
        "# コストパラメータやRBFカーネルパラメータはgrid_searchによって最適なパラメータを選択\n",
        "clf = svm.SVC(C = 10, gamma = 0.1, kernel = 'rbf')\n",
        "# train_docはベクトル化した文書のリスト\n",
        "# labelsは文書のカテゴリのリスト\n",
        "clf.fit(train_doc_vec, train_label)\n",
        "#分類器の保存\n",
        "joblib.dump(clf, '/content/drive/My Drive/svm_cls/svm.pkl.cmp', compress = True)"
      ],
      "metadata": {
        "colab": {
          "base_uri": "https://localhost:8080/"
        },
        "id": "UuJqnSaOq9rw",
        "outputId": "4855bce8-78f3-4172-e381-918f467934e8"
      },
      "execution_count": null,
      "outputs": [
        {
          "output_type": "execute_result",
          "data": {
            "text/plain": [
              "['/content/drive/My Drive/svm_cls/svm.pkl.cmp']"
            ]
          },
          "metadata": {},
          "execution_count": 15
        }
      ]
    },
    {
      "cell_type": "code",
      "source": [
        "#　テストデータのvec化 test_data_listの１つ目のデータに対して試してみる\n",
        "\n",
        "test_words_list = list(map(doc2word_list, test_data_list))\n",
        "\n",
        "print(test_words_list[0])"
      ],
      "metadata": {
        "colab": {
          "base_uri": "https://localhost:8080/"
        },
        "id": "2ez9wwCaCWdS",
        "outputId": "993a4bc0-cc38-4e10-8306-1cd1d06388e5"
      },
      "execution_count": null,
      "outputs": [
        {
          "output_type": "stream",
          "name": "stdout",
          "text": [
            "['推定', '年収', '*', '万', '円', '母親', '生活', '保護', '受給', '報道', '人気', 'お笑い', 'タレント', '*', '日', '吉本興業', '河本', '準一', '一部', '報道', '名前', '公表', '上', '現在', '生活', '保護', '受給', '噂', '否定', 'ネット', '掲示板', '波紋', '吉本興業', '側', '発表', 'リリース', '重大', 'プライバシー', '情報', '報道', 'こと', '自体', '重大', '人権', '侵害', '生活', '保護', '費', '支給', '河本', '無名', '時代', '開始', 'もの', '現在', '生活', '保護', '費', '受給', '片山', '氏', '国会', '議員', 'ら', '問題', '言及', 'こと', '河本', '親族', '側', '事情', '十分', '確認', 'まま', '実名', '個人', '批判', '的', '発言', 'こと', '非常', 'こと', 'ネット', '掲示板', '生活', '保護', 'の', '事実', 'ん', '問題', 'いつ', 'いつ', 'いつ', '生活', '保護', 'の', 'それ', '疑惑', '河本', '母親', '仕送り', '時期', '生活', '保護', '時期', '一', '発', 'アウト', '疑惑', '否定', '具体', '性', '吉本興業', '発表', '納得', 'ユーザ', 'コメント', 'その他', '世間', 'くせ', '謝罪', '言葉', '公表', 'の', '一部', '吉本興業', '対応', '自体', '不満', '声', '関連', '記事', '吉本', '完全', '否定', '河本', '母', '生活', '保護', '不正', '受給', '疑惑', '河本', '準一', '生活', '保護', '受給', '母', '言い分', '正当', '性', '次長', '課長', '河本', '準一', '逮捕', '危機', '*', '生活', '保護', '不正', '受給', '疑惑', '片山', 'さつき', '議員', '厚', '労', '省', '調査', '依頼', '河本', '準一', '氏', '年収', '５', '千', '万', '円', '母親', '生活', '保護', '不正', '需給', '疑惑', '厚', '労', '省', '担当', '課長', '調査', '依頼', '*', '片山', 'さつき', '生活', '保護', '母', '*', '売れっ子', '芸人', '怒り', '声', '関連', '情報', '吉本興業', '河本', '親族', '生活', '保護', '重大', 'プライバシー', '情報', '報道', '重大', '人権', '侵害', '河本', 'ナマ', 'ポ', '重大', 'プライバシー', '人権', '侵害', 'もと', 'コメント']\n"
          ]
        }
      ]
    },
    {
      "cell_type": "code",
      "source": [
        "test_bow_corpus = [dic.doc2bow(test_words_list[1])] # テストデータの中で2行目のものを試してみる\n",
        "\n",
        "test_tfidf_corpus = tfidf_model[test_bow_corpus]\n",
        "\n",
        "test_lsi_corpus = lsi_model[test_tfidf_corpus]\n",
        "\n",
        "test_len_lsi = len(list(test_lsi_corpus))\n",
        "test_doc_vec  = [vec2dense(test_lsi_corpus[i],len(dic)) for i in range(test_len_lsi)]\n",
        "print(len(test_doc_vec))"
      ],
      "metadata": {
        "colab": {
          "base_uri": "https://localhost:8080/"
        },
        "id": "AgX2-6tYEa_B",
        "outputId": "e9ff9350-381a-4c65-b4dc-5fcfac139778"
      },
      "execution_count": null,
      "outputs": [
        {
          "output_type": "stream",
          "name": "stdout",
          "text": [
            "1\n"
          ]
        }
      ]
    },
    {
      "cell_type": "code",
      "source": [
        "from sklearn import svm\n",
        "import joblib\n",
        "\n",
        "clf = joblib.load('/content/drive/My Drive/svm_cls/svm.pkl.cmp')\n",
        "predicted = clf.predict(test_doc_vec)\n",
        "\n",
        "# label_cat_dictはラベルとカテゴリのペア\n",
        "print(\"分類結果:\", str(predicted[0]))"
      ],
      "metadata": {
        "colab": {
          "base_uri": "https://localhost:8080/"
        },
        "id": "QpC70fniBnCk",
        "outputId": "e60a708e-93d5-4ae0-e49f-d3d4c7f0eb82"
      },
      "execution_count": null,
      "outputs": [
        {
          "output_type": "stream",
          "name": "stdout",
          "text": [
            "分類結果: 3\n"
          ]
        }
      ]
    },
    {
      "cell_type": "code",
      "source": [
        "print(test_data.iat[1,0])\n",
        "print(test_data.iat[1,1])"
      ],
      "metadata": {
        "colab": {
          "base_uri": "https://localhost:8080/"
        },
        "id": "FN7T-B7KPbqm",
        "outputId": "c032d106-fba3-448c-da4a-14c918237928"
      },
      "execution_count": null,
      "outputs": [
        {
          "output_type": "stream",
          "name": "stdout",
          "text": [
            "美枝さん（IT関係・37歳）は婚活ブームの初期の頃、同僚に誘われて大人数制の婚活パーティーに何度か参加した。しかし、自己紹介の連続に加え「無口な男性が多くて、こちらが会話の糸口を探してばかりで……」すっかり疲れたという。同じような会話の繰り返しだったため、フリータイムで声をかけてくれた人とも最初の会話の記憶が薄く話がはずまなかった。結局、同じようなパターンが続き婚活には見切りをつけてしまった。そんな美枝さんに友人は、「それなら、あなたが好きな歴史やゲームを通じた婚活はどう？ パーティーじゃなくても、まずネットで交流するとか」と薦めてくれた。しかし美枝さんは、「うんちく好きな人が多そうだし、私はそんなに専門的なわけでもないし」と気乗りしなかった。またもや会話のキャッチボールが心配なようだ。だが、美枝さんの友人のアドバイスも一考すべきだろう。趣味の集まりなら共通の話題で話もはずみそうだ。また婚活パーティーでは年齢設定が決まっていることが多く、年齢が参加のネックになることもあるが、趣味の会なら最初はあまり年齢も意識しなくて済む。そもそも、ずいぶん前からネットで趣味を通じて知り合い、結婚したという「ネット婚」はあった。体を動かすことが好きな有希さん（事務・当時37歳）の場合は、ニフティのコミュニティでインラインスケートのサークルを知り「やったことはないけれど面白そう！」と、公園での練習会に参加し始めた。ほどなく、サークル仲間と結婚。誠実そうな彼にアタックする人は何人もいたが、有希さんの粘り勝ちだったそうだ。「あまり自分から積極的になるタイプではなかったのですが、ライバルが多かったのが刺激になったのかも」と有希さん。得意分野を活かしてフリーでweb制作や翻訳などをしながらヴォーカリストを目指していた真実さん（当時29歳）も、インターネットで知り合った音楽活動のパートナーと、実生活でもパートナーに。彼が作曲、彼女が作詞とヴォーカルを担当。創作面の相性の良さから恋愛に発展するのに時間はかからなかったそうだ。残念ながら音楽活動は収入のメインにはなっていないが、インディーズ活動も続けている。ネットでの出会いは危険？ という見方が多かった頃でも「安心して会うことができた」のは、「会う前からだいたいどんな人か分かっていましたから。メールなどの文章って、人柄がすごく表れるじゃないですか」と言う。韓流ドラマやK-popフリークで、フィギュアスケートも好きな栄子さん（フリー編集者・34歳）は、番組視聴やファンクラブの活動、ライブ、競技会観覧、それらについて綴るブログ制作などで毎日が忙しい。結婚が気になる年ながらも、今は趣味と仕事で充実。男女や年齢を問わず交流を広げている彼女は、はたから見ていても実に楽しそうだ。要は必死に出会いを求めなくても、好きなことをして輝いている人には、魅力を感じた人が集まってきて、その中で相性の合う異性がいれば、自然と惹かれ合うのではないだろうか。また、一人でもフットワーク良くあちこちに出かけられる人は見ていて気持ちがいいし、好きなことをしている人は何よりも幸せそうに見える。一人でも満ち足りている人のパワーは、きっと周囲にも伝染するに違いない。前述の美枝さんは、「さびしい女だと思われそうだから」一人で映画に行ったり外食することはないというが、考え過ぎでは？ むしろ、さびしいと思うからさびしくなるのではないだろうか。「まず結婚ありき」の婚活はストレートで時に近道かもしれないけれど、お互いの人柄をじっくり知ることができて、絆を深められる趣味活もメリットは多い。むやみに婚活に走る前に、自分を満たす趣味活から始めてみるのもいいのでは？（オフィスエムツー／オオノマキ）\n",
            "3\n"
          ]
        }
      ]
    },
    {
      "cell_type": "markdown",
      "source": [
        "**うまくいった**"
      ],
      "metadata": {
        "id": "Nx1XoXJPQmre"
      }
    },
    {
      "cell_type": "code",
      "source": [],
      "metadata": {
        "id": "3hZaQzx_PtY3"
      },
      "execution_count": null,
      "outputs": []
    }
  ]
}